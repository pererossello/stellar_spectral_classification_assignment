{
 "cells": [
  {
   "cell_type": "code",
   "execution_count": 55,
   "metadata": {},
   "outputs": [],
   "source": [
    "%reload_ext autoreload\n",
    "%autoreload 2\n",
    "\n",
    "\n",
    "import plot_utils as pu\n",
    "import utils as ut\n",
    "import data\n",
    "import numpy as np\n",
    "import pandas as pd\n",
    "import os\n",
    "\n",
    "\n",
    "\n",
    "import matplotlib.pyplot as plt\n",
    "plt.rcParams['font.family'] = 'monospace'"
   ]
  },
  {
   "cell_type": "code",
   "execution_count": 68,
   "metadata": {},
   "outputs": [],
   "source": [
    "fold_examples = '../data/espectra/'\n",
    "files = os.listdir(fold_examples)\n",
    "paths = [fold_examples + f for f in files]\n",
    "\n",
    "spectra = {}\n",
    "x_max, x_min = 0, 1e5\n",
    "for i, path in enumerate(paths):\n",
    "    name = files[i].split('.')[0]\n",
    "    spectra[name] = {}\n",
    "\n",
    "    df_ex = pd.read_csv(path, sep=\"\\s+\", header=None)\n",
    "    x, y = df_ex[0].values, df_ex[1].values\n",
    "    x_min_, x_max_ = np.min(x), np.max(x)\n",
    "\n",
    "    if x_min_ < x_min:\n",
    "        x_min = x_min_\n",
    "    if x_max_ > x_max:\n",
    "        x_max = x_max_\n",
    "\n",
    "    y_min, y_max = np.min(y), np.max(y)\n",
    "    dif = np.abs(y_max - y_min)\n",
    "\n",
    "    spectra[name]['x'] = x\n",
    "    spectra[name]['y'] = y\n",
    "    spectra[name]['abs'] = 1 - y\n",
    "    spectra[name]['y_min'] = y_min\n",
    "    spectra[name]['y_max'] = y_max\n",
    "    spectra[name]['dif'] = dif\n",
    "\n",
    "spectra = {key: spectra[key] for key in ut.ordered_stellar_spectra}\n"
   ]
  },
  {
   "cell_type": "code",
   "execution_count": 67,
   "metadata": {},
   "outputs": [
    {
     "name": "stdout",
     "output_type": "stream",
     "text": [
      "SiIII/HeI (2) ratio\n",
      "starprob2_norm: 1.04\n",
      "A5V: 1.01\n",
      "A5Ia: 1.01\n",
      "A0I: 0.97\n",
      "A0V: 1.05\n",
      "B5V: 1.12\n",
      "B5Ia: 1.08\n",
      "B0Ib: 1.03\n",
      "B0V: 1.20\n",
      "O7Ib(f): 1.03\n",
      "O7V: 1.04\n",
      "O4V: 1.00\n",
      "O4If: 1.00\n"
     ]
    }
   ],
   "source": [
    "starname = 'starprob2_norm'\n",
    "filename = f'{starname}.csv'\n",
    "fold_data = '../results/'\n",
    "df = pd.read_csv(os.path.join(fold_data, filename))\n",
    "df['abs'] = 1 - df['flux']\n",
    "df['wavelength'] = df['wavelength'] * 10\n",
    "\n",
    "x, y = np.array(df['wavelength']), np.array(df['flux'])    \n",
    "line_data = data.spectral_lines_p2_balmer\n",
    "lines = r'SiIII', r'SiIV'\n",
    "lines = r'MgII', r'HeI (3)'\n",
    "lines = r'SiII', r'HeI (1)'\n",
    "lines = r'HeI (2)', r'OII'\n",
    "lines = r'SiIII', r'HeI (2)'\n",
    "x_rangs = [[line_data[lines[0]]-5, line_data[lines[0]]+5],\n",
    "            [line_data[lines[1]]-5, line_data[lines[1]]+5]]\n",
    "\n",
    "vals = {}\n",
    "vals[starname] = {}\n",
    "for spec in list(spectra.keys()):\n",
    "    vals[spec] = {}\n",
    "for i, line in enumerate(lines): \n",
    "    idx = np.where((x >= x_rangs[i][0]) & (x <= x_rangs[i][1]))[0]\n",
    "    x_red, y_red = x[idx], y[idx]\n",
    "    y_max = np.min(np.array(y_red))\n",
    "    vals[starname][f'{line}'] = y_max\n",
    "    \n",
    "\n",
    "    for spec in list(spectra.keys()):\n",
    "        x_, y_ = spectra[spec]['x'], spectra[spec]['y']\n",
    "        idx = np.where((x_ >= x_rangs[i][0]) & (x_ <= x_rangs[i][1]))[0]\n",
    "        x_, y_ = x_[idx], y_[idx]\n",
    "        if len(y_) == 0:\n",
    "            y_max = np.nan\n",
    "        else:\n",
    "            y_max = np.min(y_)\n",
    "            vals[spec][f'{line}'] = y_max\n",
    "\n",
    "\n",
    "types = ['O', 'B', 'A']\n",
    "\n",
    "print(f'{lines[0]}/{lines[1]} ratio')\n",
    "for val in vals:\n",
    "    if val == starname:\n",
    "        type = starname\n",
    "        print(f'{type}: {vals[val][lines[0]]/vals[val][lines[1]]:.2f}')\n",
    "    else:\n",
    "        type = val.split('_')[-1]\n",
    "\n",
    "    if type[0] in types:\n",
    "        print(f'{type}: {vals[val][lines[0]]/vals[val][lines[1]]:.2f}')"
   ]
  },
  {
   "cell_type": "code",
   "execution_count": 76,
   "metadata": {},
   "outputs": [
    {
     "name": "stdout",
     "output_type": "stream",
     "text": [
      "FeI (3)/CaI ratio\n",
      "starprob1_norm: 1.86\n",
      "M4p5V: 2.23\n",
      "M4II: 2.17\n",
      "M0V: 3.34\n",
      "M0I: 2.37\n",
      "K5V: 4.52\n",
      "K4p5Ib: 1.65\n",
      "K0Ib: 1.32\n",
      "K0V: 1.93\n",
      "G4Ia: 1.18\n",
      "G5V: 1.35\n",
      "G0I: 1.33\n",
      "G0V: 1.39\n"
     ]
    }
   ],
   "source": [
    "starname = 'starprob1_norm'\n",
    "filename = f'{starname}.csv'\n",
    "fold_data = '../results/'\n",
    "df = pd.read_csv(os.path.join(fold_data, filename))\n",
    "df['abs'] = 1 - df['flux']\n",
    "df['wavelength'] = df['wavelength'] * 10\n",
    "\n",
    "x, y = np.array(df['wavelength']), np.array(df['flux'])    \n",
    "line_data = data.spectral_lines_p1\n",
    "lines = 'CH G', 'CaI'\n",
    "lines = 'FeI (1)', 'SrII'\n",
    "lines = 'CaI', 'SrII'\n",
    "lines = 'FeI (3)', 'CaI'\n",
    "# lines = r'MgII', r'HeI (3)'\n",
    "\n",
    "x_rangs = [[line_data[lines[0]]-5, line_data[lines[0]]+5],\n",
    "            [line_data[lines[1]]-5, line_data[lines[1]]+5]]\n",
    "\n",
    "vals = {}\n",
    "vals[starname] = {}\n",
    "for spec in list(spectra.keys()):\n",
    "    vals[spec] = {}\n",
    "for i, line in enumerate(lines): \n",
    "    idx = np.where((x >= x_rangs[i][0]) & (x <= x_rangs[i][1]))[0]\n",
    "    x_red, y_red = x[idx], y[idx]\n",
    "    y_max = np.min(np.array(y_red))\n",
    "    vals[starname][f'{line}'] = y_max\n",
    "    \n",
    "\n",
    "    for spec in list(spectra.keys()):\n",
    "        x_, y_ = spectra[spec]['x'], spectra[spec]['y']\n",
    "        idx = np.where((x_ >= x_rangs[i][0]) & (x_ <= x_rangs[i][1]))[0]\n",
    "        x_, y_ = x_[idx], y_[idx]\n",
    "        if len(y_) == 0:\n",
    "            y_max = np.nan\n",
    "        else:\n",
    "            y_max = np.min(y_)\n",
    "            vals[spec][f'{line}'] = y_max\n",
    "\n",
    "\n",
    "types = ['G', 'K', 'M']\n",
    "\n",
    "print(f'{lines[0]}/{lines[1]} ratio')\n",
    "for val in vals:\n",
    "    if val == starname:\n",
    "        type = starname\n",
    "        print(f'{type}: {vals[val][lines[0]]/vals[val][lines[1]]:.2f}')\n",
    "    else:\n",
    "        type = val.split('_')[-1]\n",
    "\n",
    "    if type[0] in types:\n",
    "        print(f'{type}: {vals[val][lines[0]]/vals[val][lines[1]]:.2f}')"
   ]
  },
  {
   "cell_type": "code",
   "execution_count": 14,
   "metadata": {},
   "outputs": [
    {
     "data": {
      "text/plain": [
       "array([0.00687868, 0.00929742, 0.01096228, 0.0235421 , 0.05921144,\n",
       "       0.1032942 , 0.11367372, 0.07727689, 0.02948715, 0.00562315,\n",
       "       0.00325149])"
      ]
     },
     "execution_count": 14,
     "metadata": {},
     "output_type": "execute_result"
    }
   ],
   "source": [
    "y"
   ]
  },
  {
   "cell_type": "code",
   "execution_count": null,
   "metadata": {},
   "outputs": [],
   "source": []
  }
 ],
 "metadata": {
  "kernelspec": {
   "display_name": "astroenv",
   "language": "python",
   "name": "python3"
  },
  "language_info": {
   "codemirror_mode": {
    "name": "ipython",
    "version": 3
   },
   "file_extension": ".py",
   "mimetype": "text/x-python",
   "name": "python",
   "nbconvert_exporter": "python",
   "pygments_lexer": "ipython3",
   "version": "3.11.6"
  }
 },
 "nbformat": 4,
 "nbformat_minor": 2
}
