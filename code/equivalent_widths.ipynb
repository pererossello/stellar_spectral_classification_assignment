{
 "cells": [
  {
   "cell_type": "code",
   "execution_count": 27,
   "metadata": {},
   "outputs": [],
   "source": [
    "%reload_ext autoreload\n",
    "%autoreload 2\n",
    "\n",
    "\n",
    "import plot_utils as pu\n",
    "import utils as ut\n",
    "import numpy as np\n",
    "import pandas as pd\n",
    "import os\n",
    "\n",
    "\n",
    "\n",
    "import matplotlib.pyplot as plt\n",
    "plt.rcParams['font.family'] = 'monospace'"
   ]
  },
  {
   "cell_type": "code",
   "execution_count": 62,
   "metadata": {},
   "outputs": [],
   "source": [
    "fold_examples = '../data/espectra/'\n",
    "files = os.listdir(fold_examples)\n",
    "paths = [fold_examples + f for f in files]\n",
    "\n",
    "spectra = {}\n",
    "x_max, x_min = 0, 1e5\n",
    "for i, path in enumerate(paths):\n",
    "    name = files[i].split('.')[0]\n",
    "    spectra[name] = {}\n",
    "\n",
    "    df_ex = pd.read_csv(path, sep=\"\\s+\", header=None)\n",
    "    x, y = df_ex[0].values, df_ex[1].values\n",
    "    x_min_, x_max_ = np.min(x), np.max(x)\n",
    "\n",
    "    if x_min_ < x_min:\n",
    "        x_min = x_min_\n",
    "    if x_max_ > x_max:\n",
    "        x_max = x_max_\n",
    "\n",
    "    y_min, y_max = np.min(y), np.max(y)\n",
    "    dif = np.abs(y_max - y_min)\n",
    "\n",
    "    spectra[name]['x'] = x\n",
    "    spectra[name]['y'] = y\n",
    "    spectra[name]['abs'] = 1 - y\n",
    "    spectra[name]['y_min'] = y_min\n",
    "    spectra[name]['y_max'] = y_max\n",
    "    spectra[name]['dif'] = dif\n",
    "\n",
    "spectra = {key: spectra[key] for key in ut.ordered_stellar_spectra}\n"
   ]
  },
  {
   "cell_type": "code",
   "execution_count": 29,
   "metadata": {},
   "outputs": [
    {
     "name": "stderr",
     "output_type": "stream",
     "text": [
      "c:\\Users\\Pere\\Documents\\ULL\\subjects\\q1\\atmosferas_estelares_O\\entregable_1\\stellar_spectral_classification_assignment\\code\\plot_utils.py:99: UserWarning: set_ticklabels() should only be used with a fixed number of ticks, i.e. after set_ticks() or using a FixedLocator.\n",
      "  ax1.set_xticklabels(names, rotation=45, fontsize=fs*ts)\n",
      "c:\\Users\\Pere\\Documents\\ULL\\subjects\\q1\\atmosferas_estelares_O\\entregable_1\\stellar_spectral_classification_assignment\\code\\plot_utils.py:99: UserWarning: set_ticklabels() should only be used with a fixed number of ticks, i.e. after set_ticks() or using a FixedLocator.\n",
      "  ax1.set_xticklabels(names, rotation=45, fontsize=fs*ts)\n",
      "c:\\Users\\Pere\\Documents\\ULL\\subjects\\q1\\atmosferas_estelares_O\\entregable_1\\stellar_spectral_classification_assignment\\code\\plot_utils.py:99: UserWarning: set_ticklabels() should only be used with a fixed number of ticks, i.e. after set_ticks() or using a FixedLocator.\n",
      "  ax1.set_xticklabels(names, rotation=45, fontsize=fs*ts)\n",
      "WARNING: The fit may be unsuccessful; check fit_info['message'] for more information. [astropy.modeling.fitting]\n",
      "c:\\Users\\Pere\\Documents\\ULL\\subjects\\q1\\atmosferas_estelares_O\\entregable_1\\stellar_spectral_classification_assignment\\code\\plot_utils.py:99: UserWarning: set_ticklabels() should only be used with a fixed number of ticks, i.e. after set_ticks() or using a FixedLocator.\n",
      "  ax1.set_xticklabels(names, rotation=45, fontsize=fs*ts)\n"
     ]
    }
   ],
   "source": [
    "starname = 'starprob2_norm'\n",
    "filename = f'{starname}.csv'\n",
    "fold_data = '../results/'\n",
    "df = pd.read_csv(os.path.join(fold_data, filename))\n",
    "df['abs'] = 1 - df['flux']\n",
    "df['wavelength'] = df['wavelength'] * 10\n",
    "x, y = np.array(df['wavelength']), np.array(df['abs'])\n",
    "\n",
    "x_rangs = [[4800, 4915], [4310, 4365], [4460, 4478],[4547, 4560]]\n",
    "lines = [r'H$\\beta$', r'H$\\gamma$', r'He I',  r'Si III']\n",
    "types = [['O', 'B', 'A', 'F'], ['O', 'B', 'A', 'F'], ['O', 'B'], ['O', 'B']]\n",
    "\n",
    "savefold = '../figures/ew_sp2/'\n",
    "for i, x_rang in enumerate(x_rangs):\n",
    "    pu.plot_ew(x, y, spectra, x_rang, lines[i], \n",
    "           types=types[i], \n",
    "           color_rang=[0.1,1.3],\n",
    "           name='sp2',\n",
    "           savefold=savefold,\n",
    "           filename=f'sp2_{i}',)\n",
    "    plt.close()\n",
    "\n",
    "files = os.listdir(savefold)\n",
    "paths = [savefold + f for f in files]\n",
    "size = 1080*2\n",
    "savepath = '../figures/ew_sp2.png'\n",
    "\n",
    "ut.make_collage(paths, savepath, size=size)\n"
   ]
  },
  {
   "cell_type": "code",
   "execution_count": 61,
   "metadata": {},
   "outputs": [
    {
     "name": "stderr",
     "output_type": "stream",
     "text": [
      "c:\\Users\\Pere\\Documents\\ULL\\subjects\\q1\\atmosferas_estelares_O\\entregable_1\\stellar_spectral_classification_assignment\\code\\plot_utils.py:103: UserWarning: set_ticklabels() should only be used with a fixed number of ticks, i.e. after set_ticks() or using a FixedLocator.\n",
      "  ax1.set_xticklabels(names, rotation=45, ha='right')\n",
      "c:\\Users\\Pere\\Documents\\ULL\\subjects\\q1\\atmosferas_estelares_O\\entregable_1\\stellar_spectral_classification_assignment\\code\\plot_utils.py:103: UserWarning: set_ticklabels() should only be used with a fixed number of ticks, i.e. after set_ticks() or using a FixedLocator.\n",
      "  ax1.set_xticklabels(names, rotation=45, ha='right')\n",
      "c:\\Users\\Pere\\Documents\\ULL\\subjects\\q1\\atmosferas_estelares_O\\entregable_1\\stellar_spectral_classification_assignment\\code\\plot_utils.py:103: UserWarning: set_ticklabels() should only be used with a fixed number of ticks, i.e. after set_ticks() or using a FixedLocator.\n",
      "  ax1.set_xticklabels(names, rotation=45, ha='right')\n",
      "c:\\Users\\Pere\\Documents\\ULL\\subjects\\q1\\atmosferas_estelares_O\\entregable_1\\stellar_spectral_classification_assignment\\code\\plot_utils.py:103: UserWarning: set_ticklabels() should only be used with a fixed number of ticks, i.e. after set_ticks() or using a FixedLocator.\n",
      "  ax1.set_xticklabels(names, rotation=45, ha='right')\n"
     ]
    }
   ],
   "source": [
    "starname = 'starprob1_norm'\n",
    "filename = f'{starname}.csv'\n",
    "fold_data = '../results/'\n",
    "df = pd.read_csv(os.path.join(fold_data, filename))\n",
    "df['abs'] = 1 - df['flux']\n",
    "df['wavelength'] = df['wavelength'] * 10\n",
    "x, y = np.array(df['wavelength']), np.array(df['abs'])\n",
    "\n",
    "x_rangs = [[4220, 4232], [4139, 4148], [4290, 4310],[3914, 3990]]\n",
    "lines = [r'Ca I', r'Fe I', r'CH G',  r'Ca II']\n",
    "types = [['F', 'G', 'K', 'M'], ['F', 'G', 'K', 'M'], ['F', 'G', 'K', 'M'], ['B', 'F', 'G', 'K', 'M']]\n",
    "plot_bars = [True, True, True, True]\n",
    "whats = ['line', 'line', 'band', 'lines']\n",
    "fit = [True, True, False, False]\n",
    "\n",
    "savefold = '../figures/ew_sp1/'\n",
    "for i, x_rang in enumerate(x_rangs):\n",
    "    pu.plot_ew(x, y, spectra, x_rang, lines[i], \n",
    "           types=types[i], \n",
    "           color_rang=[0.1,0.9],\n",
    "           name='sp1',\n",
    "           savefold=savefold,\n",
    "           filename=f'sp1_{i}',\n",
    "           plot_bars=plot_bars[i],\n",
    "           what=whats[i],\n",
    "           fit=fit[i])\n",
    "    plt.close()\n",
    "files = os.listdir(savefold)\n",
    "paths = [savefold + f for f in files]\n",
    "size = 1080*2\n",
    "savepath = '../figures/ew_sp1.png'\n",
    "\n",
    "ut.make_collage(paths, savepath, size=size)"
   ]
  },
  {
   "cell_type": "code",
   "execution_count": 63,
   "metadata": {},
   "outputs": [
    {
     "data": {
      "text/plain": [
       "array([3915.3516, 3915.7842, 3916.2168, ..., 5098.7354, 5099.1768,\n",
       "       5099.6182])"
      ]
     },
     "execution_count": 63,
     "metadata": {},
     "output_type": "execute_result"
    }
   ],
   "source": [
    "spectra['ALS_18929_B0V']['x']"
   ]
  },
  {
   "cell_type": "code",
   "execution_count": null,
   "metadata": {},
   "outputs": [],
   "source": []
  }
 ],
 "metadata": {
  "kernelspec": {
   "display_name": "astroenv",
   "language": "python",
   "name": "python3"
  },
  "language_info": {
   "codemirror_mode": {
    "name": "ipython",
    "version": 3
   },
   "file_extension": ".py",
   "mimetype": "text/x-python",
   "name": "python",
   "nbconvert_exporter": "python",
   "pygments_lexer": "ipython3",
   "version": "3.11.6"
  }
 },
 "nbformat": 4,
 "nbformat_minor": 2
}
